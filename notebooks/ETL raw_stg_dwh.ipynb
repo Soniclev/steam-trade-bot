{
 "cells": [
  {
   "cell_type": "code",
   "execution_count": 1,
   "id": "bda526f8-036c-49c8-8cb4-36d006b3bdca",
   "metadata": {
    "tags": []
   },
   "outputs": [],
   "source": [
    "import os\n",
    "import json\n",
    "import os.path\n",
    "if os.path.basename(os.getcwd()) == \"notebooks\":\n",
    "    os.chdir('..')\n",
    "from dotenv import load_dotenv\n",
    "\n",
    "load_dotenv(\".env\")  # take environment variables from .env.\n",
    "\n",
    "from steam_trade_bot.etl.settings import get_jdbc_creds"
   ]
  },
  {
   "cell_type": "markdown",
   "id": "294a8c54-fc71-480e-98fb-af39b89fd947",
   "metadata": {},
   "source": [
    "Spark dashboard: http://localhost:4040\n"
   ]
  },
  {
   "cell_type": "code",
   "execution_count": 2,
   "id": "3dc5041e-458a-491e-be81-25cabe49ac7d",
   "metadata": {
    "tags": []
   },
   "outputs": [
    {
     "name": "stdout",
     "output_type": "stream",
     "text": [
      "CPU times: total: 234 ms\n",
      "Wall time: 14.1 s\n"
     ]
    }
   ],
   "source": [
    "%%time\n",
    "from pyspark.sql import SparkSession\n",
    "\n",
    "spark = SparkSession.builder \\\n",
    "    .master('local[*]') \\\n",
    "    .appName('Steam Trade Bot ETL') \\\n",
    "    .config(\"spark.jars\", \"vendors/postgresql-42.6.0.jar\") \\\n",
    "    .config(\"spark.executor.memory\", \"10g\") \\\n",
    "    .config(\"spark.driver.memory\", \"5g\")\\\n",
    "    .config(\"spark.sql.shuffle.partitions\" , \"30\") \\\n",
    "    .config('spark.sql.files.maxPartitionBytes', str(20 * 1024 * 1024))\\\n",
    "    .getOrCreate()"
   ]
  },
  {
   "cell_type": "code",
   "execution_count": 3,
   "id": "6885461e-89f3-489e-a97e-15907b5244ba",
   "metadata": {
    "tags": []
   },
   "outputs": [
    {
     "name": "stdout",
     "output_type": "stream",
     "text": [
      "CPU times: total: 0 ns\n",
      "Wall time: 2.7 s\n"
     ]
    }
   ],
   "source": [
    "%%time\n",
    "jdbc_url, username, password = get_jdbc_creds()\n",
    "df = spark.read \\\n",
    "    .format(\"jdbc\") \\\n",
    "    .option(\"url\", jdbc_url) \\\n",
    "    .option(\"dbtable\", \"raw.market_item_sell_history\") \\\n",
    "    .option(\"user\", username) \\\n",
    "    .option(\"password\", password) \\\n",
    "    .option(\"driver\", \"org.postgresql.Driver\") \\\n",
    "    .load()"
   ]
  },
  {
   "cell_type": "code",
   "execution_count": 4,
   "id": "c65e2a1d-bd5e-49b0-b597-515929b3d944",
   "metadata": {},
   "outputs": [],
   "source": [
    "app_id_market_name_df_partitions = max(1, round(df.count() / 1000))\n",
    "app_id_market_name_df = df.select(\"app_id\", \"market_hash_name\").repartition(app_id_market_name_df_partitions).cache()\n",
    "app_id_df = df.select(\"app_id\").distinct().repartition(1).cache()"
   ]
  },
  {
   "cell_type": "code",
   "execution_count": 5,
   "id": "eed650ee-4455-4aa8-ae86-3200c338cf83",
   "metadata": {
    "tags": []
   },
   "outputs": [
    {
     "name": "stdout",
     "output_type": "stream",
     "text": [
      "root\n",
      " |-- app_id: integer (nullable = true)\n",
      " |-- market_hash_name: string (nullable = true)\n",
      "\n"
     ]
    }
   ],
   "source": [
    "app_id_market_name_df.printSchema()"
   ]
  },
  {
   "cell_type": "code",
   "execution_count": 6,
   "id": "c26e6abd-887e-4a79-9846-fd38a3e4ab23",
   "metadata": {
    "tags": []
   },
   "outputs": [
    {
     "name": "stdout",
     "output_type": "stream",
     "text": [
      "root\n",
      " |-- app_id: integer (nullable = true)\n",
      "\n"
     ]
    }
   ],
   "source": [
    "app_id_df.printSchema()"
   ]
  },
  {
   "cell_type": "code",
   "execution_count": 7,
   "id": "06ceaf1f-3faf-493a-91f1-9688888fc379",
   "metadata": {
    "tags": []
   },
   "outputs": [
    {
     "data": {
      "text/plain": [
       "(113, 1)"
      ]
     },
     "execution_count": 7,
     "metadata": {},
     "output_type": "execute_result"
    }
   ],
   "source": [
    "app_id_market_name_df.count(), app_id_market_name_df.rdd.getNumPartitions()"
   ]
  },
  {
   "cell_type": "code",
   "execution_count": 8,
   "id": "e604dfbe-5b09-4300-8045-5eaf85df0bee",
   "metadata": {
    "tags": []
   },
   "outputs": [
    {
     "data": {
      "text/plain": [
       "(1, 1)"
      ]
     },
     "execution_count": 8,
     "metadata": {},
     "output_type": "execute_result"
    }
   ],
   "source": [
    "app_id_df.count(), app_id_df.rdd.getNumPartitions()"
   ]
  },
  {
   "cell_type": "code",
   "execution_count": 9,
   "id": "7b89aba2-6915-40e0-8c45-e0028583374f",
   "metadata": {
    "tags": []
   },
   "outputs": [
    {
     "name": "stdout",
     "output_type": "stream",
     "text": [
      "CPU times: total: 31.2 ms\n",
      "Wall time: 1.64 s\n"
     ]
    }
   ],
   "source": [
    "%%time\n",
    "from steam_trade_bot.etl.async_run import surround_async\n",
    "from steam_trade_bot.etl.processors.game import process_game_batch\n",
    "\n",
    "app_id_df.foreachPartition(surround_async(process_game_batch))"
   ]
  },
  {
   "cell_type": "code",
   "execution_count": 10,
   "id": "7ded9886-0c39-4a50-85b7-db8f694625cd",
   "metadata": {
    "tags": []
   },
   "outputs": [
    {
     "name": "stdout",
     "output_type": "stream",
     "text": [
      "CPU times: total: 15.6 ms\n",
      "Wall time: 1.56 s\n"
     ]
    }
   ],
   "source": [
    "%%time\n",
    "from steam_trade_bot.etl.processors.market_item import process_market_item_batch\n",
    "\n",
    "app_id_market_name_df.foreachPartition(surround_async(process_market_item_batch))"
   ]
  },
  {
   "cell_type": "code",
   "execution_count": 11,
   "id": "57081e84-f342-45c7-9194-a91b34ca8472",
   "metadata": {
    "tags": []
   },
   "outputs": [
    {
     "name": "stdout",
     "output_type": "stream",
     "text": [
      "CPU times: total: 0 ns\n",
      "Wall time: 11 s\n"
     ]
    }
   ],
   "source": [
    "%%time\n",
    "from steam_trade_bot.etl.processors.market_item import process_market_item_sell_history_batch\n",
    "\n",
    "app_id_market_name_df.foreachPartition(surround_async(process_market_item_sell_history_batch))\n"
   ]
  },
  {
   "cell_type": "code",
   "execution_count": 12,
   "id": "2a639777-4359-4a81-837e-aff22a5838dd",
   "metadata": {
    "tags": []
   },
   "outputs": [
    {
     "name": "stdout",
     "output_type": "stream",
     "text": [
      "CPU times: total: 0 ns\n",
      "Wall time: 1.62 s\n"
     ]
    }
   ],
   "source": [
    "%%time\n",
    "from steam_trade_bot.etl.processors.market_item import process_market_item_orders_batch\n",
    "\n",
    "app_id_market_name_df.foreachPartition(surround_async(process_market_item_orders_batch))\n"
   ]
  }
 ],
 "metadata": {
  "kernelspec": {
   "display_name": "Python 3 (ipykernel)",
   "language": "python",
   "name": "python3"
  },
  "language_info": {
   "codemirror_mode": {
    "name": "ipython",
    "version": 3
   },
   "file_extension": ".py",
   "mimetype": "text/x-python",
   "name": "python",
   "nbconvert_exporter": "python",
   "pygments_lexer": "ipython3",
   "version": "3.10.4"
  }
 },
 "nbformat": 4,
 "nbformat_minor": 5
}
