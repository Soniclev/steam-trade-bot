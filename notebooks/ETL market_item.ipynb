{
 "cells": [
  {
   "cell_type": "code",
   "execution_count": 1,
   "id": "d6a0ba06-eb3e-4548-ad7d-60a775636bc2",
   "metadata": {
    "tags": []
   },
   "outputs": [],
   "source": [
    "import os\n",
    "import json\n",
    "import os.path\n",
    "if os.path.basename(os.getcwd()) == \"notebooks\":\n",
    "    os.chdir('..')\n",
    "from dotenv import load_dotenv\n",
    "\n",
    "load_dotenv(\".env\")  # take environment variables from .env.\n",
    "\n",
    "from steam_trade_bot.etl.settings import get_jdbc_creds"
   ]
  },
  {
   "cell_type": "code",
   "execution_count": 2,
   "id": "3a7481b8-8921-4c1c-b146-96798c710884",
   "metadata": {
    "tags": []
   },
   "outputs": [
    {
     "name": "stdout",
     "output_type": "stream",
     "text": [
      "CPU times: total: 188 ms\n",
      "Wall time: 15.5 s\n"
     ]
    }
   ],
   "source": [
    "%%time\n",
    "from steam_trade_bot.etl.spark_conf import create_spark_instance\n",
    "\n",
    "spark = create_spark_instance()"
   ]
  },
  {
   "cell_type": "code",
   "execution_count": 3,
   "id": "8bc5e01d-5e79-487f-8d4c-4d74deff049d",
   "metadata": {
    "tags": []
   },
   "outputs": [
    {
     "name": "stdout",
     "output_type": "stream",
     "text": [
      "CPU times: total: 15.6 ms\n",
      "Wall time: 3.55 s\n"
     ]
    }
   ],
   "source": [
    "%%time\n",
    "jdbc_url, username, password = get_jdbc_creds()\n",
    "df = spark.read \\\n",
    "    .format(\"jdbc\") \\\n",
    "    .option(\"url\", jdbc_url) \\\n",
    "    .option(\"dbtable\", \"stg_market.market_item_sell_history\") \\\n",
    "    .option(\"user\", username) \\\n",
    "    .option(\"password\", password) \\\n",
    "    .option(\"driver\", \"org.postgresql.Driver\") \\\n",
    "    .load()"
   ]
  },
  {
   "cell_type": "code",
   "execution_count": 4,
   "id": "8c0dd230-ae6a-48d7-aee2-458ced25e5aa",
   "metadata": {
    "tags": []
   },
   "outputs": [
    {
     "name": "stdout",
     "output_type": "stream",
     "text": [
      "+------+--------------------+--------------------+--------------------+\n",
      "|app_id|    market_hash_name|           timestamp|             history|\n",
      "+------+--------------------+--------------------+--------------------+\n",
      "|   730|M4A1-S | Nitro (F...|2022-11-12 19:16:...|\"[[1385676000.0, ...|\n",
      "|   730|M4A1-S | Boreal F...|2022-11-12 18:48:...|\"[[1385589600.0, ...|\n",
      "|   730|M4A1-S | Fizzy PO...|2022-11-12 18:49:...|\"[[1632261600.0, ...|\n",
      "|   730|M4A1-S | Boreal F...|2022-11-12 20:00:...|\"[[1385589600.0, ...|\n",
      "|   730|M4A1-S | VariCamo...|2022-11-12 18:50:...|\"[[1385589600.0, ...|\n",
      "|   730|M4A1-S | Cyrex (M...|2022-11-12 20:00:...|\"[[1404252000.0, ...|\n",
      "|   730|M4A1-S | Boreal F...|2022-11-12 18:46:...|\"[[1385589600.0, ...|\n",
      "|   730|M4A1-S | Nitro (F...|2022-11-12 18:45:...|\"[[1385589600.0, ...|\n",
      "|   730|M4A1-S | VariCamo...|2022-11-12 18:44:...|\"[[1385676000.0, ...|\n",
      "|   730|M4A1-S | Boreal F...|2022-11-12 18:45:...|\"[[1385589600.0, ...|\n",
      "|   730|M4A1-S | Nitro (W...|2022-11-12 18:53:...|\"[[1385589600.0, ...|\n",
      "|   730|M4A1-S | Leaded G...|2022-11-12 18:55:...|\"[[1505426400.0, ...|\n",
      "|   730|M4A1-S | Nitro (B...|2022-11-12 18:56:...|\"[[1385589600.0, ...|\n",
      "|   730|M4A1-S | Flashbac...|2022-11-12 18:53:...|\"[[1480370400.0, ...|\n",
      "|   730|M4A1-S | Guardian...|2022-11-12 18:55:...|\"[[1387404000.0, ...|\n",
      "|   730|M4A1-S | Decimato...|2022-11-12 18:55:...|\"[[1489615200.0, ...|\n",
      "|   730|M4A1-S | Blood Ti...|2022-11-12 19:00:...|\"[[1383775200.0, ...|\n",
      "|   730|M4A1-S | Night Te...|2022-11-12 19:03:...|\"[[1642716000.0, ...|\n",
      "|   730|M4A1-S | Blood Ti...|2022-11-12 19:01:...|\"[[1383775200.0, ...|\n",
      "|   730|M4A1-S | Nitro (M...|2022-11-12 19:01:...|\"[[1385589600.0, ...|\n",
      "+------+--------------------+--------------------+--------------------+\n",
      "only showing top 20 rows\n",
      "\n"
     ]
    }
   ],
   "source": [
    "df.show()"
   ]
  },
  {
   "cell_type": "code",
   "execution_count": 5,
   "id": "79150666-f7b9-49cb-bb76-9d2857acb8f2",
   "metadata": {
    "tags": []
   },
   "outputs": [
    {
     "name": "stdout",
     "output_type": "stream",
     "text": [
      "root\n",
      " |-- app_id: integer (nullable = true)\n",
      " |-- market_hash_name: string (nullable = true)\n",
      " |-- timestamp: timestamp (nullable = true)\n",
      " |-- history: string (nullable = true)\n",
      "\n"
     ]
    }
   ],
   "source": [
    "df.printSchema()"
   ]
  },
  {
   "cell_type": "code",
   "execution_count": 6,
   "id": "828aba6d-4fe2-4f13-bc0b-e664cc3e80b7",
   "metadata": {
    "tags": []
   },
   "outputs": [],
   "source": [
    "from pyspark.sql.functions import from_json, col, regexp_replace, explode, to_timestamp\n",
    "import pyspark.sql.functions as func\n",
    "from pyspark.sql.types import ArrayType, IntegerType, FloatType, DecimalType\n",
    "\n",
    "# json_schema = spark.read.json(df.rdd.map(lambda row: row.history)).schema\n",
    "df2 = df.withColumn(\"history\", regexp_replace(col(\"history\"), '\"', \"\"))\n",
    "df3 = df2.withColumn('history', from_json(col('history'), ArrayType(ArrayType(DecimalType(18, 2)))))\n",
    "df4 = df3.select('app_id', 'market_hash_name', 'timestamp', explode('history').alias('exploded_history'))\n",
    "df5 = df4.select(\n",
    "    col(\"app_id\"),\n",
    "    col(\"market_hash_name\"),\n",
    "    col(\"timestamp\"),\n",
    "    to_timestamp(col('exploded_history')[0].cast('bigint')).alias(\"point_timestamp\"),\n",
    "    col(\"exploded_history\")[1].alias(\"price\"),\n",
    "    col(\"exploded_history\")[2].cast('integer').alias(\"sold_quantity\")\n",
    ").repartition(\"market_hash_name\")"
   ]
  },
  {
   "cell_type": "code",
   "execution_count": 7,
   "id": "c71475e3-ec38-4c43-b8a2-69f72b886b8c",
   "metadata": {
    "tags": []
   },
   "outputs": [
    {
     "data": {
      "text/plain": [
       "Row(app_id=730, market_hash_name='M4A1-S | Nitro (Well-Worn)', timestamp=datetime.datetime(2022, 11, 12, 18, 53, 36, 406543), point_timestamp=datetime.datetime(2013, 11, 28, 1, 0), price=Decimal('26.38'), sold_quantity=2)"
      ]
     },
     "execution_count": 7,
     "metadata": {},
     "output_type": "execute_result"
    }
   ],
   "source": [
    "df5.first()"
   ]
  },
  {
   "cell_type": "code",
   "execution_count": 8,
   "id": "ddb6ca32-9458-4797-98f9-c1f7bfe2b061",
   "metadata": {
    "tags": []
   },
   "outputs": [
    {
     "name": "stdout",
     "output_type": "stream",
     "text": [
      "+------+--------------------------+--------------------------+-------------------+-----+-------------+\n",
      "|app_id|market_hash_name          |timestamp                 |point_timestamp    |price|sold_quantity|\n",
      "+------+--------------------------+--------------------------+-------------------+-----+-------------+\n",
      "|730   |M4A1-S | Nitro (Well-Worn)|2022-11-12 18:53:36.406543|2013-11-28 02:00:00|26.38|2            |\n",
      "|730   |M4A1-S | Nitro (Well-Worn)|2022-11-12 18:53:36.406543|2013-11-29 02:00:00|19.85|7            |\n",
      "|730   |M4A1-S | Nitro (Well-Worn)|2022-11-12 18:53:36.406543|2013-11-30 02:00:00|18.56|3            |\n",
      "|730   |M4A1-S | Nitro (Well-Worn)|2022-11-12 18:53:36.406543|2013-12-01 02:00:00|19.17|5            |\n",
      "|730   |M4A1-S | Nitro (Well-Worn)|2022-11-12 18:53:36.406543|2013-12-02 02:00:00|13.53|7            |\n",
      "|730   |M4A1-S | Nitro (Well-Worn)|2022-11-12 18:53:36.406543|2013-12-03 02:00:00|16.05|2            |\n",
      "|730   |M4A1-S | Nitro (Well-Worn)|2022-11-12 18:53:36.406543|2013-12-04 02:00:00|17.27|3            |\n",
      "|730   |M4A1-S | Nitro (Well-Worn)|2022-11-12 18:53:36.406543|2013-12-05 02:00:00|14.07|3            |\n",
      "|730   |M4A1-S | Nitro (Well-Worn)|2022-11-12 18:53:36.406543|2013-12-06 02:00:00|12.04|3            |\n",
      "|730   |M4A1-S | Nitro (Well-Worn)|2022-11-12 18:53:36.406543|2013-12-07 02:00:00|10.81|14           |\n",
      "|730   |M4A1-S | Nitro (Well-Worn)|2022-11-12 18:53:36.406543|2013-12-08 02:00:00|12.25|3            |\n",
      "|730   |M4A1-S | Nitro (Well-Worn)|2022-11-12 18:53:36.406543|2013-12-09 02:00:00|10.78|15           |\n",
      "|730   |M4A1-S | Nitro (Well-Worn)|2022-11-12 18:53:36.406543|2013-12-10 02:00:00|11.47|7            |\n",
      "|730   |M4A1-S | Nitro (Well-Worn)|2022-11-12 18:53:36.406543|2013-12-11 02:00:00|12.46|5            |\n",
      "|730   |M4A1-S | Nitro (Well-Worn)|2022-11-12 18:53:36.406543|2013-12-12 02:00:00|11.92|3            |\n",
      "|730   |M4A1-S | Nitro (Well-Worn)|2022-11-12 18:53:36.406543|2013-12-13 02:00:00|10.67|10           |\n",
      "|730   |M4A1-S | Nitro (Well-Worn)|2022-11-12 18:53:36.406543|2013-12-14 02:00:00|14.28|7            |\n",
      "|730   |M4A1-S | Nitro (Well-Worn)|2022-11-12 18:53:36.406543|2013-12-15 02:00:00|11.91|6            |\n",
      "|730   |M4A1-S | Nitro (Well-Worn)|2022-11-12 18:53:36.406543|2013-12-16 02:00:00|10.95|7            |\n",
      "|730   |M4A1-S | Nitro (Well-Worn)|2022-11-12 18:53:36.406543|2013-12-17 02:00:00|7.67 |3            |\n",
      "+------+--------------------------+--------------------------+-------------------+-----+-------------+\n",
      "only showing top 20 rows\n",
      "\n"
     ]
    }
   ],
   "source": [
    "df5.show(20, False)"
   ]
  },
  {
   "cell_type": "code",
   "execution_count": 9,
   "id": "bf1813a3-d075-4bfc-b6e4-64824fe56ef0",
   "metadata": {
    "tags": []
   },
   "outputs": [
    {
     "data": {
      "text/plain": [
       "300328"
      ]
     },
     "execution_count": 9,
     "metadata": {},
     "output_type": "execute_result"
    }
   ],
   "source": [
    "df5.count()"
   ]
  },
  {
   "cell_type": "code",
   "execution_count": 10,
   "id": "984a7bc3-d116-4d30-85dc-852ed079bba1",
   "metadata": {
    "tags": []
   },
   "outputs": [
    {
     "data": {
      "text/plain": [
       "3"
      ]
     },
     "execution_count": 10,
     "metadata": {},
     "output_type": "execute_result"
    }
   ],
   "source": [
    "df5.rdd.getNumPartitions()"
   ]
  },
  {
   "cell_type": "code",
   "execution_count": 11,
   "id": "0554603d-15d8-40c3-85f3-31ea645d773b",
   "metadata": {
    "tags": []
   },
   "outputs": [
    {
     "name": "stdout",
     "output_type": "stream",
     "text": [
      "+-------------------+---------------+------------+--------------+-----------------+\n",
      "|point_timestamp    |daily_avg_price|daily_volume|daily_quantity|sold_unique_items|\n",
      "+-------------------+---------------+------------+--------------+-----------------+\n",
      "|2022-11-12 00:00:00|15.59          |48872.02    |9555          |105              |\n",
      "|2022-11-11 00:00:00|15.75          |75734.06    |15062         |109              |\n",
      "|2022-11-10 00:00:00|15.03          |68997.43    |13555         |108              |\n",
      "|2022-11-09 00:00:00|14.43          |67615.85    |13368         |108              |\n",
      "|2022-11-08 00:00:00|14.43          |65245.23    |12874         |106              |\n",
      "|2022-11-07 00:00:00|14.48          |66884.06    |13272         |108              |\n",
      "|2022-11-06 00:00:00|17.10          |81804.01    |16127         |108              |\n",
      "|2022-11-05 00:00:00|14.32          |75947.00    |16535         |108              |\n",
      "|2022-11-04 00:00:00|14.54          |75344.48    |15553         |106              |\n",
      "|2022-11-03 00:00:00|14.09          |68524.71    |14105         |106              |\n",
      "|2022-11-02 00:00:00|16.46          |72420.40    |14377         |109              |\n",
      "|2022-11-01 00:00:00|15.54          |74638.99    |14809         |108              |\n",
      "|2022-10-31 00:00:00|13.73          |72620.44    |15114         |106              |\n",
      "|2022-10-30 00:00:00|13.64          |77111.41    |17059         |105              |\n",
      "|2022-10-29 00:00:00|15.02          |83934.51    |16910         |108              |\n",
      "|2022-10-28 00:00:00|15.04          |76460.39    |14912         |109              |\n",
      "|2022-10-27 00:00:00|14.59          |74159.25    |14910         |106              |\n",
      "|2022-10-26 00:00:00|14.00          |70946.65    |14371         |108              |\n",
      "|2022-10-25 00:00:00|13.65          |67487.90    |13427         |106              |\n",
      "|2022-10-24 00:00:00|14.19          |67678.27    |13794         |108              |\n",
      "+-------------------+---------------+------------+--------------+-----------------+\n",
      "only showing top 20 rows\n",
      "\n"
     ]
    }
   ],
   "source": [
    "df6 = df5.withColumn(\"point_timestamp\",func.date_trunc(\"day\", col(\"point_timestamp\"))).groupBy(\"point_timestamp\").agg(\n",
    "    func.round(func.avg((col(\"price\"))), 2).alias(\"daily_avg_price\"),\n",
    "    func.sum((col(\"price\") * col(\"sold_quantity\"))).alias(\"daily_volume\"),\n",
    "    func.sum(col(\"sold_quantity\")).alias(\"daily_quantity\"),\n",
    "    func.approx_count_distinct(\"market_hash_name\").alias(\"sold_unique_items\"),\n",
    ").sort(\"point_timestamp\", ascending=False)\n",
    "df6.show(20, False)"
   ]
  },
  {
   "cell_type": "code",
   "execution_count": 12,
   "id": "6afb0888-688a-4690-9eb3-357606d240f7",
   "metadata": {
    "tags": []
   },
   "outputs": [
    {
     "data": {
      "text/plain": [
       "3377"
      ]
     },
     "execution_count": 12,
     "metadata": {},
     "output_type": "execute_result"
    }
   ],
   "source": [
    "df6.count()"
   ]
  },
  {
   "cell_type": "code",
   "execution_count": 13,
   "id": "9f0899f1-c53a-4cfa-8883-aefc27512078",
   "metadata": {
    "tags": []
   },
   "outputs": [],
   "source": [
    "df6.write \\\n",
    "    .format(\"jdbc\") \\\n",
    "    .option(\"url\", jdbc_url) \\\n",
    "    .option(\"dbtable\", \"stg_market.entire_market_daily_stats\") \\\n",
    "    .option(\"user\", username) \\\n",
    "    .option(\"password\", password) \\\n",
    "    .option(\"driver\", \"org.postgresql.Driver\") \\\n",
    "    .mode(\"overwrite\") \\\n",
    "    .option(\"truncate\", True) \\\n",
    "    .save()"
   ]
  },
  {
   "cell_type": "code",
   "execution_count": 14,
   "id": "b564f2e7-e09a-4dae-a3e4-2c12599e5b41",
   "metadata": {},
   "outputs": [],
   "source": [
    "# TODO: compute top100 items sold for each day"
   ]
  },
  {
   "cell_type": "code",
   "execution_count": 15,
   "id": "28deaa75-21d9-4141-8a5f-95cc8cb8b1fa",
   "metadata": {},
   "outputs": [],
   "source": [
    "# TODO: boost detect on daily basis, write to separate table like `boosted_items`\n",
    "# looks like this task is for each item, like first job"
   ]
  }
 ],
 "metadata": {
  "kernelspec": {
   "display_name": "Python 3 (ipykernel)",
   "language": "python",
   "name": "python3"
  },
  "language_info": {
   "codemirror_mode": {
    "name": "ipython",
    "version": 3
   },
   "file_extension": ".py",
   "mimetype": "text/x-python",
   "name": "python",
   "nbconvert_exporter": "python",
   "pygments_lexer": "ipython3",
   "version": "3.10.4"
  }
 },
 "nbformat": 4,
 "nbformat_minor": 5
}
